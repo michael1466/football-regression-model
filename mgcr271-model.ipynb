{
 "cells": [
  {
   "cell_type": "code",
   "execution_count": 1,
   "id": "42295717",
   "metadata": {
    "_cell_guid": "b1076dfc-b9ad-4769-8c92-a6c4dae69d19",
    "_uuid": "8f2839f25d086af736a60e9eeb907d3b93b6e0e5",
    "execution": {
     "iopub.execute_input": "2025-04-02T18:41:13.238425Z",
     "iopub.status.busy": "2025-04-02T18:41:13.238086Z",
     "iopub.status.idle": "2025-04-02T18:41:14.246457Z",
     "shell.execute_reply": "2025-04-02T18:41:14.245304Z"
    },
    "papermill": {
     "duration": 1.015766,
     "end_time": "2025-04-02T18:41:14.248552",
     "exception": false,
     "start_time": "2025-04-02T18:41:13.232786",
     "status": "completed"
    },
    "tags": []
   },
   "outputs": [
    {
     "name": "stdout",
     "output_type": "stream",
     "text": [
      "/kaggle/input/cleaned-football-data/Football_Correllation_Cleaned.csv\n"
     ]
    }
   ],
   "source": [
    "# This Python 3 environment comes with many helpful analytics libraries installed\n",
    "# It is defined by the kaggle/python Docker image: https://github.com/kaggle/docker-python\n",
    "# For example, here's several helpful packages to load\n",
    "\n",
    "import numpy as np # linear algebra\n",
    "import pandas as pd # data processing, CSV file I/O (e.g. pd.read_csv)\n",
    "\n",
    "# Input data files are available in the read-only \"../input/\" directory\n",
    "# For example, running this (by clicking run or pressing Shift+Enter) will list all files under the input directory\n",
    "\n",
    "import os\n",
    "for dirname, _, filenames in os.walk('/kaggle/input'):\n",
    "    for filename in filenames:\n",
    "        print(os.path.join(dirname, filename))\n",
    "\n",
    "# You can write up to 20GB to the current directory (/kaggle/working/) that gets preserved as output when you create a version using \"Save & Run All\" \n",
    "# You can also write temporary files to /kaggle/temp/, but they won't be saved outside of the current session"
   ]
  },
  {
   "cell_type": "code",
   "execution_count": 2,
   "id": "457d872d",
   "metadata": {
    "execution": {
     "iopub.execute_input": "2025-04-02T18:41:14.257474Z",
     "iopub.status.busy": "2025-04-02T18:41:14.256989Z",
     "iopub.status.idle": "2025-04-02T18:41:14.293345Z",
     "shell.execute_reply": "2025-04-02T18:41:14.292249Z"
    },
    "papermill": {
     "duration": 0.042577,
     "end_time": "2025-04-02T18:41:14.295053",
     "exception": false,
     "start_time": "2025-04-02T18:41:14.252476",
     "status": "completed"
    },
    "tags": []
   },
   "outputs": [
    {
     "name": "stdout",
     "output_type": "stream",
     "text": [
      "Final dataset rows: 96\n"
     ]
    }
   ],
   "source": [
    "import pandas as pd\n",
    "file_path = \"/kaggle/input/cleaned-football-data/Football_Correllation_Cleaned.csv\"\n",
    "\n",
    "# Load the dataset\n",
    "df = pd.read_csv(file_path, encoding=\"ISO-8859-1\")\n",
    "\n",
    "df = df.dropna(axis=1, how='all')\n",
    "\n",
    "df.head()\n",
    "\n",
    "df = df.dropna(how=\"all\")\n",
    "\n",
    "df = df.reset_index(drop=True)\n",
    "\n",
    "df = df.iloc[:96]\n",
    "\n",
    "print(f\"Final dataset rows: {df.shape[0]}\")\n"
   ]
  },
  {
   "cell_type": "code",
   "execution_count": 3,
   "id": "6717e9f3",
   "metadata": {
    "execution": {
     "iopub.execute_input": "2025-04-02T18:41:14.302709Z",
     "iopub.status.busy": "2025-04-02T18:41:14.302317Z",
     "iopub.status.idle": "2025-04-02T18:41:15.965800Z",
     "shell.execute_reply": "2025-04-02T18:41:15.964718Z"
    },
    "papermill": {
     "duration": 1.668908,
     "end_time": "2025-04-02T18:41:15.967331",
     "exception": false,
     "start_time": "2025-04-02T18:41:14.298423",
     "status": "completed"
    },
    "tags": []
   },
   "outputs": [
    {
     "name": "stdout",
     "output_type": "stream",
     "text": [
      "X_train rows: 76\n",
      "X_test rows: 20\n"
     ]
    }
   ],
   "source": [
    "from sklearn.model_selection import train_test_split\n",
    "\n",
    "# Define target variable (dependent variable)\n",
    "y = df['PPG2']  # Change if predicting another variable\n",
    "\n",
    "# Define features (independent variables)\n",
    "X = df[['Win', 'Draw', 'Loss', 'GF', 'GA', 'GD',\n",
    "       'Average Attendence', 'Transfer Budget (miilion)',\n",
    "       'City Pop.(thousands)', 'Age']]\n",
    "\n",
    "# Split into training (80%) and testing (20%) sets\n",
    "X_train, X_test, y_train, y_test = train_test_split(X, y, test_size=0.2, random_state=1)\n",
    "\n",
    "\n",
    "print(f\"X_train rows: {X_train.shape[0]}\")\n",
    "print(f\"X_test rows: {X_test.shape[0]}\")"
   ]
  },
  {
   "cell_type": "code",
   "execution_count": 4,
   "id": "7df4778a",
   "metadata": {
    "execution": {
     "iopub.execute_input": "2025-04-02T18:41:15.975295Z",
     "iopub.status.busy": "2025-04-02T18:41:15.974787Z",
     "iopub.status.idle": "2025-04-02T18:41:16.560689Z",
     "shell.execute_reply": "2025-04-02T18:41:16.559861Z"
    },
    "papermill": {
     "duration": 0.591757,
     "end_time": "2025-04-02T18:41:16.562546",
     "exception": false,
     "start_time": "2025-04-02T18:41:15.970789",
     "status": "completed"
    },
    "tags": []
   },
   "outputs": [],
   "source": [
    "from sklearn.ensemble import RandomForestRegressor\n",
    "\n",
    "# Initialize the Random Forest model\n",
    "rf_model = RandomForestRegressor(n_estimators=100, random_state=1)\n",
    "\n",
    "# Train the model\n",
    "rf_model.fit(X_train, y_train)\n",
    "\n",
    "# Make predictions\n",
    "y_pred = rf_model.predict(X_test)\n"
   ]
  },
  {
   "cell_type": "code",
   "execution_count": 5,
   "id": "7fc793da",
   "metadata": {
    "execution": {
     "iopub.execute_input": "2025-04-02T18:41:16.570385Z",
     "iopub.status.busy": "2025-04-02T18:41:16.570068Z",
     "iopub.status.idle": "2025-04-02T18:41:16.577511Z",
     "shell.execute_reply": "2025-04-02T18:41:16.576321Z"
    },
    "papermill": {
     "duration": 0.013061,
     "end_time": "2025-04-02T18:41:16.579094",
     "exception": false,
     "start_time": "2025-04-02T18:41:16.566033",
     "status": "completed"
    },
    "tags": []
   },
   "outputs": [
    {
     "name": "stdout",
     "output_type": "stream",
     "text": [
      "Mean Squared Error: 0.0048\n",
      "R-Squared Score: 0.9726\n"
     ]
    }
   ],
   "source": [
    "from sklearn.metrics import mean_squared_error, r2_score\n",
    "\n",
    "# Calculate Mean Squared Error (MSE)\n",
    "mse = mean_squared_error(y_test, y_pred)\n",
    "\n",
    "# Calculate R-Squared Score\n",
    "r2 = r2_score(y_test, y_pred)\n",
    "\n",
    "print(f\"Mean Squared Error: {mse:.4f}\")\n",
    "print(f\"R-Squared Score: {r2:.4f}\")\n"
   ]
  },
  {
   "cell_type": "code",
   "execution_count": 6,
   "id": "f7059853",
   "metadata": {
    "execution": {
     "iopub.execute_input": "2025-04-02T18:41:16.586893Z",
     "iopub.status.busy": "2025-04-02T18:41:16.586578Z",
     "iopub.status.idle": "2025-04-02T18:41:17.477035Z",
     "shell.execute_reply": "2025-04-02T18:41:17.475878Z"
    },
    "papermill": {
     "duration": 0.89624,
     "end_time": "2025-04-02T18:41:17.478746",
     "exception": false,
     "start_time": "2025-04-02T18:41:16.582506",
     "status": "completed"
    },
    "tags": []
   },
   "outputs": [
    {
     "data": {
      "image/png": "[encoded data removed]",
      "text/plain": [
       "<Figure size 800x500 with 1 Axes>"
      ]
     },
     "metadata": {},
     "output_type": "display_data"
    }
   ],
   "source": [
    "import matplotlib.pyplot as plt\n",
    "import seaborn as sns\n",
    "\n",
    "# Get feature importance\n",
    "feature_importance = rf_model.feature_importances_\n",
    "features = X.columns\n",
    "\n",
    "# Plot feature importance\n",
    "plt.figure(figsize=(8,5))\n",
    "sns.barplot(x=feature_importance, y=features)\n",
    "plt.xlabel('Feature Importance Score')\n",
    "plt.ylabel('Features')\n",
    "plt.title('Feature Importance in Random Forest')\n",
    "plt.show()\n"
   ]
  },
  {
   "cell_type": "code",
   "execution_count": 7,
   "id": "bae5173f",
   "metadata": {
    "execution": {
     "iopub.execute_input": "2025-04-02T18:41:17.489067Z",
     "iopub.status.busy": "2025-04-02T18:41:17.488530Z",
     "iopub.status.idle": "2025-04-02T18:41:17.496021Z",
     "shell.execute_reply": "2025-04-02T18:41:17.495012Z"
    },
    "papermill": {
     "duration": 0.014317,
     "end_time": "2025-04-02T18:41:17.497590",
     "exception": false,
     "start_time": "2025-04-02T18:41:17.483273",
     "status": "completed"
    },
    "tags": []
   },
   "outputs": [],
   "source": [
    "# Define new feature set without 'Win', 'Draw', 'Loss'\n",
    "X_new = df[[ 'Average Attendence', 'Transfer Budget (miilion)', 'City Pop.(thousands)', 'Age']]\n",
    "\n",
    "# Keep the same target variable\n",
    "y_new = df['PPG2']\n",
    "\n",
    "# Split into training and test sets again\n",
    "from sklearn.model_selection import train_test_split\n",
    "X_train_new, X_test_new, y_train_new, y_test_new = train_test_split(X_new, y_new, test_size=0.2, random_state=42)\n"
   ]
  },
  {
   "cell_type": "code",
   "execution_count": 8,
   "id": "d58730ce",
   "metadata": {
    "execution": {
     "iopub.execute_input": "2025-04-02T18:41:17.507480Z",
     "iopub.status.busy": "2025-04-02T18:41:17.507143Z",
     "iopub.status.idle": "2025-04-02T18:41:17.677509Z",
     "shell.execute_reply": "2025-04-02T18:41:17.676654Z"
    },
    "papermill": {
     "duration": 0.177379,
     "end_time": "2025-04-02T18:41:17.679418",
     "exception": false,
     "start_time": "2025-04-02T18:41:17.502039",
     "status": "completed"
    },
    "tags": []
   },
   "outputs": [],
   "source": [
    "from sklearn.ensemble import RandomForestRegressor\n",
    "\n",
    "# Initialize and train new model\n",
    "rf_model_new = RandomForestRegressor(n_estimators=100, random_state=42)\n",
    "rf_model_new.fit(X_train_new, y_train_new)\n",
    "\n",
    "# Make predictions\n",
    "y_pred_new = rf_model_new.predict(X_test_new)\n"
   ]
  },
  {
   "cell_type": "code",
   "execution_count": 9,
   "id": "fb310d64",
   "metadata": {
    "execution": {
     "iopub.execute_input": "2025-04-02T18:41:17.689614Z",
     "iopub.status.busy": "2025-04-02T18:41:17.689231Z",
     "iopub.status.idle": "2025-04-02T18:41:17.696573Z",
     "shell.execute_reply": "2025-04-02T18:41:17.695186Z"
    },
    "papermill": {
     "duration": 0.01433,
     "end_time": "2025-04-02T18:41:17.698364",
     "exception": false,
     "start_time": "2025-04-02T18:41:17.684034",
     "status": "completed"
    },
    "tags": []
   },
   "outputs": [
    {
     "name": "stdout",
     "output_type": "stream",
     "text": [
      "New Mean Squared Error: 0.1092\n",
      "New R-Squared Score: 0.6031\n"
     ]
    }
   ],
   "source": [
    "from sklearn.metrics import mean_squared_error, r2_score\n",
    "\n",
    "mse_new = mean_squared_error(y_test_new, y_pred_new)\n",
    "r2_new = r2_score(y_test_new, y_pred_new)\n",
    "\n",
    "print(f\"New Mean Squared Error: {mse_new:.4f}\")\n",
    "print(f\"New R-Squared Score: {r2_new:.4f}\")\n"
   ]
  },
  {
   "cell_type": "code",
   "execution_count": 10,
   "id": "118dfeaf",
   "metadata": {
    "execution": {
     "iopub.execute_input": "2025-04-02T18:41:17.708610Z",
     "iopub.status.busy": "2025-04-02T18:41:17.708241Z",
     "iopub.status.idle": "2025-04-02T18:41:18.006256Z",
     "shell.execute_reply": "2025-04-02T18:41:18.005280Z"
    },
    "papermill": {
     "duration": 0.305037,
     "end_time": "2025-04-02T18:41:18.008032",
     "exception": false,
     "start_time": "2025-04-02T18:41:17.702995",
     "status": "completed"
    },
    "tags": []
   },
   "outputs": [
    {
     "data": {
      "image/png": "[encoded data removed]",
      "text/plain": [
       "<Figure size 800x500 with 1 Axes>"
      ]
     },
     "metadata": {},
     "output_type": "display_data"
    }
   ],
   "source": [
    "import matplotlib.pyplot as plt\n",
    "import seaborn as sns\n",
    "\n",
    "\n",
    "feature_importance_new = rf_model_new.feature_importances_\n",
    "features_new = X_new.columns\n",
    "\n",
    "plt.figure(figsize=(8,5))\n",
    "sns.barplot(x=feature_importance_new, y=features_new)\n",
    "plt.xlabel('Feature Importance Score')\n",
    "plt.ylabel('Features')\n",
    "plt.title('Updated Feature Importance in Random Forest')\n",
    "plt.show()\n"
   ]
  }
 ],
 "metadata": {
  "kaggle": {
   "accelerator": "none",
   "dataSources": [
    {
     "datasetId": 6966855,
     "sourceId": 11164401,
     "sourceType": "datasetVersion"
    }
   ],
   "dockerImageVersionId": 30918,
   "isGpuEnabled": false,
   "isInternetEnabled": false,
   "language": "python",
   "sourceType": "notebook"
  },
  "kernelspec": {
   "display_name": "Python 3",
   "language": "python",
   "name": "python3"
  },
  "language_info": {
   "codemirror_mode": {
    "name": "ipython",
    "version": 3
   },
   "file_extension": ".py",
   "mimetype": "text/x-python",
   "name": "python",
   "nbconvert_exporter": "python",
   "pygments_lexer": "ipython3",
   "version": "3.10.12"
  },
  "papermill": {
   "default_parameters": {},
   "duration": 8.33666,
   "end_time": "2025-04-02T18:41:18.632484",
   "environment_variables": {},
   "exception": null,
   "input_path": "__notebook__.ipynb",
   "output_path": "__notebook__.ipynb",
   "parameters": {},
   "start_time": "2025-04-02T18:41:10.295824",
   "version": "2.6.0"
  }
 },
 "nbformat": 4,
 "nbformat_minor": 5
}
